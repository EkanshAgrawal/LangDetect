{
 "cells": [
  {
   "cell_type": "code",
   "execution_count": 1,
   "metadata": {},
   "outputs": [],
   "source": [
    "import warnings\n",
    "warnings.filterwarnings(\"ignore\")\n",
    "import pandas as pd\n"
   ]
  },
  {
   "cell_type": "code",
   "execution_count": 2,
   "metadata": {},
   "outputs": [
    {
     "name": "stderr",
     "output_type": "stream",
     "text": [
      "[nltk_data] Downloading package wordnet to\n",
      "[nltk_data]     C:\\Users\\User\\AppData\\Roaming\\nltk_data...\n",
      "[nltk_data]   Package wordnet is already up-to-date!\n",
      "[nltk_data] Downloading package omw-1.4 to\n",
      "[nltk_data]     C:\\Users\\User\\AppData\\Roaming\\nltk_data...\n",
      "[nltk_data]   Package omw-1.4 is already up-to-date!\n"
     ]
    },
    {
     "data": {
      "text/plain": [
       "True"
      ]
     },
     "execution_count": 2,
     "metadata": {},
     "output_type": "execute_result"
    }
   ],
   "source": [
    "import numpy as np\n",
    "import pandas as pd\n",
    "import re\n",
    "import string\n",
    "import math\n",
    "import nltk\n",
    "nltk.download('wordnet')\n",
    "nltk.download('omw-1.4')"
   ]
  },
  {
   "cell_type": "code",
   "execution_count": 3,
   "metadata": {
    "_uuid": "42e28b5feb0a9b739d2a1768569fc21c2a7ec9c0",
    "colab": {
     "base_uri": "https://localhost:8080/",
     "height": 1969
    },
    "colab_type": "code",
    "id": "99r7cnBBswSM",
    "outputId": "edc48ac9-d0b6-4139-bab7-ac95c458fec3"
   },
   "outputs": [],
   "source": [
    "df=pd.read_csv('sentences.csv', delimiter='\\t', header=None, names=[\"1\",\"language\",\"Text\"] )\n",
    "del df[\"1\"]\n",
    "df = df[['Text', 'language']]"
   ]
  },
  {
   "cell_type": "code",
   "execution_count": 4,
   "metadata": {},
   "outputs": [],
   "source": [
    "att=['ben','eng','guj','hin','kan','mal','mar','nep','ori','pan','san','tam','urd']\n",
    "dataset= df.loc[df['language'].isin(att)]"
   ]
  },
  {
   "cell_type": "code",
   "execution_count": 5,
   "metadata": {},
   "outputs": [
    {
     "data": {
      "text/html": [
       "<div>\n",
       "<style scoped>\n",
       "    .dataframe tbody tr th:only-of-type {\n",
       "        vertical-align: middle;\n",
       "    }\n",
       "\n",
       "    .dataframe tbody tr th {\n",
       "        vertical-align: top;\n",
       "    }\n",
       "\n",
       "    .dataframe thead th {\n",
       "        text-align: right;\n",
       "    }\n",
       "</style>\n",
       "<table border=\"1\" class=\"dataframe\">\n",
       "  <thead>\n",
       "    <tr style=\"text-align: right;\">\n",
       "      <th></th>\n",
       "      <th>Text</th>\n",
       "      <th>language</th>\n",
       "    </tr>\n",
       "  </thead>\n",
       "  <tbody>\n",
       "    <tr>\n",
       "      <th>1490</th>\n",
       "      <td>Ten years is a long time to wait.</td>\n",
       "      <td>eng</td>\n",
       "    </tr>\n",
       "    <tr>\n",
       "      <th>1889</th>\n",
       "      <td>Food and drink were served in such profusion a...</td>\n",
       "      <td>eng</td>\n",
       "    </tr>\n",
       "    <tr>\n",
       "      <th>2062</th>\n",
       "      <td>The essence of liberty is mathematics.</td>\n",
       "      <td>eng</td>\n",
       "    </tr>\n",
       "    <tr>\n",
       "      <th>15221</th>\n",
       "      <td>You may as well ask for your teacher's advice.</td>\n",
       "      <td>eng</td>\n",
       "    </tr>\n",
       "    <tr>\n",
       "      <th>15482</th>\n",
       "      <td>You are as white as a sheet.</td>\n",
       "      <td>eng</td>\n",
       "    </tr>\n",
       "    <tr>\n",
       "      <th>...</th>\n",
       "      <td>...</td>\n",
       "      <td>...</td>\n",
       "    </tr>\n",
       "    <tr>\n",
       "      <th>10294264</th>\n",
       "      <td>The house was beyond saving. It had to be torn...</td>\n",
       "      <td>eng</td>\n",
       "    </tr>\n",
       "    <tr>\n",
       "      <th>10297025</th>\n",
       "      <td>Ziri arrived at the house tired.</td>\n",
       "      <td>eng</td>\n",
       "    </tr>\n",
       "    <tr>\n",
       "      <th>10299919</th>\n",
       "      <td>Tom is late, as usual.</td>\n",
       "      <td>eng</td>\n",
       "    </tr>\n",
       "    <tr>\n",
       "      <th>10304825</th>\n",
       "      <td>It takes courage to follow your heart.</td>\n",
       "      <td>eng</td>\n",
       "    </tr>\n",
       "    <tr>\n",
       "      <th>10313813</th>\n",
       "      <td>Ziri was halfway down the hallway.</td>\n",
       "      <td>eng</td>\n",
       "    </tr>\n",
       "  </tbody>\n",
       "</table>\n",
       "<p>10809 rows × 2 columns</p>\n",
       "</div>"
      ],
      "text/plain": [
       "                                                       Text language\n",
       "1490                      Ten years is a long time to wait.      eng\n",
       "1889      Food and drink were served in such profusion a...      eng\n",
       "2062                 The essence of liberty is mathematics.      eng\n",
       "15221        You may as well ask for your teacher's advice.      eng\n",
       "15482                          You are as white as a sheet.      eng\n",
       "...                                                     ...      ...\n",
       "10294264  The house was beyond saving. It had to be torn...      eng\n",
       "10297025                   Ziri arrived at the house tired.      eng\n",
       "10299919                             Tom is late, as usual.      eng\n",
       "10304825             It takes courage to follow your heart.      eng\n",
       "10313813                 Ziri was halfway down the hallway.      eng\n",
       "\n",
       "[10809 rows x 2 columns]"
      ]
     },
     "execution_count": 5,
     "metadata": {},
     "output_type": "execute_result"
    }
   ],
   "source": [
    "dataset = dataset.drop(dataset.query('language == \"eng\"').sample(frac=.999).index)\n",
    "dataset = dataset.drop(dataset.query('language == \"mar\"').sample(frac=.999).index)\n",
    "dataset = dataset.drop(dataset.query('language == \"hin\"').sample(frac=.997).index)\n",
    "\n",
    "dataset"
   ]
  },
  {
   "cell_type": "code",
   "execution_count": 6,
   "metadata": {
    "scrolled": true
   },
   "outputs": [
    {
     "data": {
      "text/plain": [
       "'\"df[\\'Text\\'] = df[\\'Text\\'].apply(lambda x: re.sub(\\'[%s]\\' % re.escape(string.punctuation), \\'\\' , x))\\ndf[\\'Text\\'] = df[\\'Text\\'].apply(lambda x: x.lower())\\n\\n#defining function for tokenization\\n\\ndef tokenization(text):\\n    tokens = re.split(\\'W+\\',text)\\n    return tokens\\n#applying function to the column\\ndf[\\'Text\\'] = df[\\'Text\\'].apply(lambda x: tokenization(x))\\n\\n#importing nlp library\\nimport nltk\\n\\n\\n#importing the Stemming function from nltk library\\nfrom nltk.stem.porter import PorterStemmer\\n#defining the object for stemming\\nporter_stemmer = PorterStemmer()\\n#defining a function for stemming\\ndef stemming(text):\\n    stem_text = [porter_stemmer.stem(word) for word in text]\\n    return stem_text\\ndf[\\'Text\\'] = df[\\'Text\\'].apply(lambda x: stemming(x))\\n\\nfrom nltk.stem import WordNetLemmatizer\\n#defining the object for Lemmatization\\nwordnet_lemmatizer = WordNetLemmatizer()\\n#defining the function for lemmatization\\ndef lemmatizer(text):\\n    lemm_text = [wordnet_lemmatizer.lemmatize(word) for word in text]\\n    return lemm_text\\ndf[\\'Text\\'] = df[\\'Text\\'].apply(lambda x:lemmatizer(x))\\n'"
      ]
     },
     "execution_count": 6,
     "metadata": {},
     "output_type": "execute_result"
    }
   ],
   "source": [
    "\"\"\"\"df['Text'] = df['Text'].apply(lambda x: re.sub('[%s]' % re.escape(string.punctuation), '' , x))\n",
    "df['Text'] = df['Text'].apply(lambda x: x.lower())\n",
    "\n",
    "#defining function for tokenization\n",
    "\n",
    "def tokenization(text):\n",
    "    tokens = re.split('W+',text)\n",
    "    return tokens\n",
    "#applying function to the column\n",
    "df['Text'] = df['Text'].apply(lambda x: tokenization(x))\n",
    "\n",
    "#importing nlp library\n",
    "import nltk\n",
    "\n",
    "\n",
    "#importing the Stemming function from nltk library\n",
    "from nltk.stem.porter import PorterStemmer\n",
    "#defining the object for stemming\n",
    "porter_stemmer = PorterStemmer()\n",
    "#defining a function for stemming\n",
    "def stemming(text):\n",
    "    stem_text = [porter_stemmer.stem(word) for word in text]\n",
    "    return stem_text\n",
    "df['Text'] = df['Text'].apply(lambda x: stemming(x))\n",
    "\n",
    "from nltk.stem import WordNetLemmatizer\n",
    "#defining the object for Lemmatization\n",
    "wordnet_lemmatizer = WordNetLemmatizer()\n",
    "#defining the function for lemmatization\n",
    "def lemmatizer(text):\n",
    "    lemm_text = [wordnet_lemmatizer.lemmatize(word) for word in text]\n",
    "    return lemm_text\n",
    "df['Text'] = df['Text'].apply(lambda x:lemmatizer(x))\n",
    "\"\"\""
   ]
  },
  {
   "cell_type": "code",
   "execution_count": 7,
   "metadata": {},
   "outputs": [],
   "source": [
    "from mpl_toolkits.mplot3d import Axes3D\n",
    "from sklearn.preprocessing import StandardScaler\n",
    "import matplotlib.pyplot as plt # plotting\n",
    "import numpy as np\n",
    "import seaborn as sns\n",
    "\n",
    "# Distribution graphs (histogram/bar graph) of column data\n",
    "def plotPerColumnDistribution(df, nGraphShown, nGraphPerRow):\n",
    "    nunique = df.nunique()\n",
    "    df = df[[col for col in df if nunique[col] > 1 and nunique[col] < 50]] # For displaying purposes, pick columns that have between 1 and 50 unique values\n",
    "    nRow, nCol = df.shape\n",
    "    columnNames = list(df)\n",
    "    nGraphRow = (nCol + nGraphPerRow - 1) / nGraphPerRow\n",
    "    plt.figure(num = None, figsize = (6 * nGraphPerRow, 8 * nGraphRow), dpi = 80, facecolor = 'w', edgecolor = 'k')\n",
    "    for i in range(min(nCol, nGraphShown)):\n",
    "        plt.subplot(nGraphRow, nGraphPerRow, i + 1)\n",
    "        columnDf = df.iloc[:, i]\n",
    "        if (not np.issubdtype(type(columnDf.iloc[0]), np.number)):\n",
    "            valueCounts = columnDf.value_counts()\n",
    "            valueCounts.plot.bar()\n",
    "        else:\n",
    "            columnDf.hist()\n",
    "        plt.ylabel('counts')\n",
    "        plt.xticks(rotation = 90)\n",
    "        plt.title(f'{columnNames[i]} (column {i})')\n",
    "    plt.tight_layout(pad = 1.0, w_pad = 1.0, h_pad = 1.0)\n",
    "    plt.show()"
   ]
  },
  {
   "cell_type": "code",
   "execution_count": 8,
   "metadata": {
    "scrolled": false
   },
   "outputs": [
    {
     "data": {
      "image/png": "[encoded data removed]",
      "text/plain": [
       "<Figure size 2400x640 with 1 Axes>"
      ]
     },
     "metadata": {},
     "output_type": "display_data"
    }
   ],
   "source": [
    "plotPerColumnDistribution(dataset, 10, 5)"
   ]
  },
  {
   "cell_type": "code",
   "execution_count": null,
   "metadata": {},
   "outputs": [],
   "source": [
    "from imblearn.over_sampling import RandomOverSampler \n",
    "from collections import Counter\n",
    "from sklearn.datasets import make_classification\n",
    "\n",
    "y=dataset['language']\n",
    "X=dataset.drop(['language'],axis=1)\n",
    "y.value_counts()\n",
    "\n",
    "ros=RandomOverSampler(random_state=12)\n",
    "X,y=ros.fit_resample(X,y)\n",
    "y.value_counts()\n",
    "X['language']=y\n",
    "dataset=X\n"
   ]
  },
  {
   "cell_type": "code",
   "execution_count": null,
   "metadata": {},
   "outputs": [],
   "source": [
    "from mpl_toolkits.mplot3d import Axes3D\n",
    "from sklearn.preprocessing import StandardScaler\n",
    "import matplotlib.pyplot as plt # plotting\n",
    "import numpy as np\n",
    "import seaborn as sns\n",
    "\n",
    "# Distribution graphs (histogram/bar graph) of column data\n",
    "def plotPerColumnDistribution(df, nGraphShown, nGraphPerRow):\n",
    "    nunique = df.nunique()\n",
    "    df = df[[col for col in df if nunique[col] > 1 and nunique[col] < 50]] # For displaying purposes, pick columns that have between 1 and 50 unique values\n",
    "    nRow, nCol = df.shape\n",
    "    columnNames = list(df)\n",
    "    nGraphRow = (nCol + nGraphPerRow - 1) / nGraphPerRow\n",
    "    plt.figure(num = None, figsize = (6 * nGraphPerRow, 8 * nGraphRow), dpi = 80, facecolor = 'w', edgecolor = 'k')\n",
    "    for i in range(min(nCol, nGraphShown)):\n",
    "        plt.subplot(nGraphRow, nGraphPerRow, i + 1)\n",
    "        columnDf = df.iloc[:, i]\n",
    "        if (not np.issubdtype(type(columnDf.iloc[0]), np.number)):\n",
    "            valueCounts = columnDf.value_counts()\n",
    "            valueCounts.plot.bar()\n",
    "        else:\n",
    "            columnDf.hist()\n",
    "        plt.ylabel('counts')\n",
    "        plt.xticks(rotation = 90)\n",
    "        plt.title(f'{columnNames[i]} (column {i})')\n",
    "    plt.tight_layout(pad = 1.0, w_pad = 1.0, h_pad = 1.0)\n",
    "    plt.show()"
   ]
  },
  {
   "cell_type": "code",
   "execution_count": null,
   "metadata": {
    "scrolled": false
   },
   "outputs": [],
   "source": [
    "plotPerColumnDistribution(dataset, 10, 5)"
   ]
  },
  {
   "cell_type": "code",
   "execution_count": null,
   "metadata": {
    "_uuid": "a44f27b902575b3cc23be64d956d46b511ef98c7",
    "colab": {},
    "colab_type": "code",
    "id": "7eFy2Sf_4KTl",
    "scrolled": true
   },
   "outputs": [],
   "source": [
    "from sklearn.model_selection         import train_test_split\n",
    "text = dataset.Text\n",
    "language = dataset.language\n",
    "train_features, test_features, train_labels, test_labels = train_test_split(text, language, test_size=0.20, random_state=5)"
   ]
  },
  {
   "cell_type": "code",
   "execution_count": null,
   "metadata": {},
   "outputs": [],
   "source": [
    "print('lenght of training data = ',len(train_features))\n",
    "print('lenght of test data = ', len(test_features))"
   ]
  },
  {
   "cell_type": "code",
   "execution_count": null,
   "metadata": {},
   "outputs": [],
   "source": [
    "from sklearn.feature_extraction.text import*\n",
    "from sklearn                         import preprocessing\n",
    "from sklearn.preprocessing           import LabelEncoder"
   ]
  },
  {
   "cell_type": "code",
   "execution_count": null,
   "metadata": {
    "_uuid": "d36ba964a53f9ea583f3d916c7075daffa64ee22",
    "colab": {
     "base_uri": "https://localhost:8080/",
     "height": 34
    },
    "colab_type": "code",
    "id": "CxD8XlDf4KTt",
    "outputId": "7c8bc67d-d991-4ff9-97a8-e6f6b3b3cbca"
   },
   "outputs": [],
   "source": [
    "#uni gram\n",
    "uni_vector =   CountVectorizer( strip_accents='unicode', analyzer='word', token_pattern=r'\\w{1,}', \n",
    "                          stop_words=None, ngram_range=(1,1), max_features=1000)\n",
    "bag_of_words_uni = uni_vector.fit_transform(train_features)\n",
    "bag_of_words_uni.shape"
   ]
  },
  {
   "cell_type": "code",
   "execution_count": null,
   "metadata": {
    "_uuid": "27c9658160b1859e219d38755147093e38df81b9",
    "colab": {},
    "colab_type": "code",
    "id": "ti6UqYTK4KT4"
   },
   "outputs": [],
   "source": [
    "#bigram\n",
    "bi_vector =   CountVectorizer( strip_accents='unicode', analyzer='word', token_pattern=r'\\w{1,}', \n",
    "                          stop_words=None, ngram_range=(2,2), max_features=1000)\n",
    "bag_of_words_bi = bi_vector.fit_transform(train_features)"
   ]
  },
  {
   "cell_type": "code",
   "execution_count": null,
   "metadata": {
    "_uuid": "9123141fad8c66d3ba7320fe06d41357c1ccda05",
    "colab": {},
    "colab_type": "code",
    "id": "-752_HLO4KT9"
   },
   "outputs": [],
   "source": [
    "#trigram\n",
    "tri_vector =   CountVectorizer( strip_accents='unicode', analyzer='word', token_pattern=r'\\w{1,}', \n",
    "                          stop_words=None, ngram_range=(3,3), max_features=1000)\n",
    "bag_of_words_tri = tri_vector.fit_transform(train_features)"
   ]
  },
  {
   "cell_type": "code",
   "execution_count": null,
   "metadata": {
    "_uuid": "78be3aba1b26d60c481eb804e3611f690256b3ad",
    "colab": {},
    "colab_type": "code",
    "id": "qedQhyU14KUI"
   },
   "outputs": [],
   "source": [
    "#3chargram\n",
    "char3_vector =   CountVectorizer( strip_accents='unicode', analyzer='char', token_pattern=r'\\w{1,}', \n",
    "                          stop_words=None, ngram_range=(3,3), max_features=1000)\n",
    "bag_of_words_char3 = char3_vector.fit_transform(train_features)"
   ]
  },
  {
   "cell_type": "code",
   "execution_count": null,
   "metadata": {
    "_uuid": "62ec29a2c05fb871ddb24e2f429d02e405a8e0c8",
    "colab": {},
    "colab_type": "code",
    "id": "jUxz1_dR4KUR"
   },
   "outputs": [],
   "source": [
    "#4chargram\n",
    "char4_vector =   CountVectorizer( strip_accents='unicode', analyzer='char', token_pattern=r'\\w{1,}', \n",
    "                          stop_words=None, ngram_range=(4,4), max_features=1000)\n",
    "bag_of_words_char4 = char4_vector.fit_transform(train_features)"
   ]
  },
  {
   "cell_type": "code",
   "execution_count": null,
   "metadata": {
    "_uuid": "f734c7e09d92445c641214489c4014295753ddae",
    "colab": {},
    "colab_type": "code",
    "id": "iDiGfFwC4KUe"
   },
   "outputs": [],
   "source": [
    "#5chargram\n",
    "char5_vector =   CountVectorizer( strip_accents='unicode', analyzer='char', token_pattern=r'\\w{1,}', \n",
    "                          stop_words=None, ngram_range=(5,5), max_features=1000)\n",
    "bag_of_words_char5 = char5_vector.fit_transform(train_features)"
   ]
  },
  {
   "cell_type": "code",
   "execution_count": null,
   "metadata": {
    "_uuid": "ce6b23753c6692940b70401e032087ec95e53430",
    "colab": {},
    "colab_type": "code",
    "id": "P3z8-5Qm4KUl"
   },
   "outputs": [],
   "source": [
    "#6chargram\n",
    "char6_vector =   CountVectorizer( strip_accents='unicode', analyzer='char', token_pattern=r'\\w{1,}', \n",
    "                          stop_words=None, ngram_range=(6,6), max_features=1000)\n",
    "bag_of_words_char6 = char6_vector.fit_transform(train_features)"
   ]
  },
  {
   "cell_type": "code",
   "execution_count": null,
   "metadata": {
    "_uuid": "33f281f7b40fbdeefc360efe820d277834eb6323",
    "colab": {},
    "colab_type": "code",
    "id": "LuZAalZ84KUq"
   },
   "outputs": [],
   "source": [
    "#7chargram\n",
    "char7_vector =   CountVectorizer( strip_accents='unicode', analyzer='char', token_pattern=r'\\w{1,}', \n",
    "                          stop_words=None, ngram_range=(7,7), max_features=1000)\n",
    "bag_of_words_char7 = char7_vector.fit_transform(train_features)"
   ]
  },
  {
   "cell_type": "code",
   "execution_count": null,
   "metadata": {
    "_uuid": "a4c81df69adc400cfe6a9c415cc2358b055b2974",
    "colab": {},
    "colab_type": "code",
    "id": "zGSr0-Vw4KUv"
   },
   "outputs": [],
   "source": [
    "#8chargram\n",
    "char8_vector =   CountVectorizer( strip_accents='unicode', analyzer='char', token_pattern=r'\\w{1,}', \n",
    "                          stop_words=None, ngram_range=(1,1), max_features=1000)\n",
    "bag_of_words_char8 = char8_vector.fit_transform(train_features)"
   ]
  },
  {
   "cell_type": "code",
   "execution_count": null,
   "metadata": {
    "_uuid": "c6676e699c4d7800119933842600f2c9b78940bd",
    "colab": {},
    "colab_type": "code",
    "id": "B9zbmEnt4KU1"
   },
   "outputs": [],
   "source": [
    "#9chargram\n",
    "char9_vector =   CountVectorizer( strip_accents='unicode', analyzer='char', token_pattern=r'\\w{1,}', \n",
    "                          stop_words=None, ngram_range=(9,9), max_features=1000)\n",
    "bag_of_words_char9 = char9_vector.fit_transform(train_features)"
   ]
  },
  {
   "cell_type": "code",
   "execution_count": null,
   "metadata": {
    "_uuid": "adf2d8af77b648c2ad3a8514d521cb5442826597",
    "colab": {},
    "colab_type": "code",
    "id": "zqI8Wm5D4KU6"
   },
   "outputs": [],
   "source": [
    "#10chargram\n",
    "char10_vector =   CountVectorizer( strip_accents='unicode', analyzer='char', token_pattern=r'\\w{1,}', \n",
    "                          stop_words=None, ngram_range=(10,10), max_features=1000)\n",
    "bag_of_words_char10 = char10_vector.fit_transform(train_features)"
   ]
  },
  {
   "cell_type": "code",
   "execution_count": null,
   "metadata": {
    "_uuid": "99b4df96ce59c0507482126f0926c9cb0fe23627",
    "colab": {},
    "colab_type": "code",
    "id": "1OD3u-oM4KVA"
   },
   "outputs": [],
   "source": [
    "# Get feature names\n",
    "uni_feature_names = uni_vector.get_feature_names()\n",
    "bi_feature_names = bi_vector.get_feature_names()\n",
    "tri_feature_names = tri_vector.get_feature_names()\n",
    "char3_feature_names = char3_vector.get_feature_names()\n",
    "char4_feature_names = char4_vector.get_feature_names()\n",
    "char5_feature_names = char5_vector.get_feature_names()\n",
    "char6_feature_names = char6_vector.get_feature_names()\n",
    "char7_feature_names = char7_vector.get_feature_names()\n",
    "char8_feature_names = char8_vector.get_feature_names()\n",
    "char9_feature_names = char9_vector.get_feature_names()\n",
    "char10_feature_names = char10_vector.get_feature_names()"
   ]
  },
  {
   "cell_type": "code",
   "execution_count": null,
   "metadata": {
    "_uuid": "f239149560ddd526d3eabf27d01bf54ac992896c",
    "colab": {
     "base_uri": "https://localhost:8080/",
     "height": 233
    },
    "colab_type": "code",
    "id": "E4KFMaSU4KVP",
    "outputId": "9b35a796-1557-4432-9f32-71939b82688e"
   },
   "outputs": [],
   "source": [
    "uni_train_features=pd.DataFrame(bag_of_words_uni.toarray(), columns=uni_feature_names)\n",
    "#uni_train_features[:5]"
   ]
  },
  {
   "cell_type": "code",
   "execution_count": null,
   "metadata": {
    "_uuid": "3a2d5e772bb407d798e5335436f63cb3a4b06ab8",
    "colab": {},
    "colab_type": "code",
    "id": "QUWX4A9a4KVf"
   },
   "outputs": [],
   "source": [
    "bi_train_features=pd.DataFrame(bag_of_words_bi.toarray(), columns=bi_feature_names)\n",
    "tri_train_features=pd.DataFrame(bag_of_words_tri.toarray(), columns=tri_feature_names)\n",
    "char3_train_features=pd.DataFrame(bag_of_words_char3.toarray(), columns=char3_feature_names)\n",
    "char4_train_features=pd.DataFrame(bag_of_words_char4.toarray(), columns=char4_feature_names)\n",
    "char5_train_features=pd.DataFrame(bag_of_words_char5.toarray(), columns=char5_feature_names)\n",
    "char6_train_features=pd.DataFrame(bag_of_words_char6.toarray(), columns=char6_feature_names)\n",
    "char7_train_features=pd.DataFrame(bag_of_words_char7.toarray(), columns=char7_feature_names)\n",
    "char8_train_features=pd.DataFrame(bag_of_words_char8.toarray(), columns=char8_feature_names)\n",
    "char9_train_features=pd.DataFrame(bag_of_words_char9.toarray(), columns=char9_feature_names)\n",
    "char10_train_features=pd.DataFrame(bag_of_words_char10.toarray(), columns=char10_feature_names)"
   ]
  },
  {
   "cell_type": "code",
   "execution_count": null,
   "metadata": {
    "_uuid": "23ebd2f0afa20ef04e1ea22d5b205850794b3265",
    "colab": {
     "base_uri": "https://localhost:8080/",
     "height": 391
    },
    "colab_type": "code",
    "id": "emGqgcSG4KVt",
    "outputId": "9d2cf655-8be4-4e3b-dd76-ae02f94f569b",
    "scrolled": true
   },
   "outputs": [],
   "source": [
    "from sklearn.ensemble                import RandomForestClassifier\n",
    "\n",
    "#apply RandomForestClassifier on train dataset\n",
    "rfc_uni = RandomForestClassifier()                      \n",
    "rfc_uni.fit(uni_train_features, train_labels);\n",
    "\n",
    "rfc_bi = RandomForestClassifier()                      \n",
    "rfc_bi.fit(bi_train_features, train_labels);\n",
    "\n",
    "rfc_tri = RandomForestClassifier()                      \n",
    "rfc_tri.fit(tri_train_features, train_labels);\n",
    "\n",
    "rfc_char3 = RandomForestClassifier()                      \n",
    "rfc_char3.fit(char3_train_features, train_labels);\n",
    "\n",
    "rfc_char4 = RandomForestClassifier()                      \n",
    "rfc_char4.fit(char4_train_features, train_labels);\n",
    "\n",
    "rfc_char5 = RandomForestClassifier()                      \n",
    "rfc_char5.fit(char5_train_features, train_labels);\n",
    "\n",
    "rfc_char6 = RandomForestClassifier()                      \n",
    "rfc_char6.fit(char6_train_features, train_labels);\n",
    "\n",
    "rfc_char7 = RandomForestClassifier()                      \n",
    "rfc_char7.fit(char7_train_features, train_labels);\n",
    "\n",
    "rfc_char8 = RandomForestClassifier()                      \n",
    "rfc_char8.fit(char8_train_features, train_labels);\n",
    "\n",
    "rfc_char9 = RandomForestClassifier()                      \n",
    "rfc_char9.fit(char9_train_features, train_labels);\n",
    "\n",
    "rfc_char10 = RandomForestClassifier()                      \n",
    "rfc_char10.fit(char10_train_features, train_labels);"
   ]
  },
  {
   "cell_type": "code",
   "execution_count": null,
   "metadata": {
    "_uuid": "6829917a86f49b9d03149d6c44e7cf98aa9b1bab",
    "colab": {
     "base_uri": "https://localhost:8080/",
     "height": 323
    },
    "colab_type": "code",
    "id": "IPEQ_W_C4KVx",
    "outputId": "176a47b6-8474-4865-eb7b-21f9590e7716"
   },
   "outputs": [],
   "source": [
    "from sklearn.svm                     import LinearSVC\n",
    "#apply LinearSVC() on train dataset\n",
    "lsvc_uni = LinearSVC()                      \n",
    "lsvc_uni.fit(uni_train_features, train_labels);\n",
    "\n",
    "lsvc_bi = LinearSVC()                      \n",
    "lsvc_bi.fit(bi_train_features, train_labels);\n",
    "\n",
    "lsvc_tri = LinearSVC()                      \n",
    "lsvc_tri.fit(tri_train_features, train_labels);\n",
    "\n",
    "lsvc_char3 = LinearSVC()                     \n",
    "lsvc_char3.fit(char3_train_features, train_labels);\n",
    "\n",
    "lsvc_char4 = LinearSVC()                     \n",
    "lsvc_char4.fit(char4_train_features, train_labels);\n",
    "\n",
    "lsvc_char5 = LinearSVC()                     \n",
    "lsvc_char5.fit(char5_train_features, train_labels);\n",
    "\n",
    "lsvc_char6 = LinearSVC()                     \n",
    "lsvc_char6.fit(char6_train_features, train_labels);\n",
    "\n",
    "lsvc_char7 = LinearSVC()                     \n",
    "lsvc_char7.fit(char7_train_features, train_labels);\n",
    "\n",
    "lsvc_char8 = LinearSVC()                     \n",
    "lsvc_char8.fit(char8_train_features, train_labels);\n",
    "\n",
    "lsvc_char9 = LinearSVC()                     \n",
    "lsvc_char9.fit(char9_train_features, train_labels);\n",
    "\n",
    "lsvc_char10 = LinearSVC()                     \n",
    "lsvc_char10.fit(char10_train_features, train_labels);"
   ]
  },
  {
   "cell_type": "code",
   "execution_count": null,
   "metadata": {
    "_uuid": "1451c3ce176b977a6e215e5ff2a50d42786fad22",
    "colab": {
     "base_uri": "https://localhost:8080/",
     "height": 765
    },
    "colab_type": "code",
    "id": "l-nJWlRY5JAI",
    "outputId": "401cba6d-8fe3-429e-e446-4b6c9b9b9b83"
   },
   "outputs": [],
   "source": [
    "from sklearn.linear_model            import LogisticRegression\n",
    "#apply LogisticRegression() on train dataset\n",
    "lr_uni = LogisticRegression()                      \n",
    "lr_uni.fit(uni_train_features, train_labels);\n",
    "\n",
    "lr_bi = LogisticRegression()                      \n",
    "lr_bi.fit(bi_train_features, train_labels);\n",
    "\n",
    "lr_tri = LogisticRegression()                      \n",
    "lr_tri.fit(tri_train_features, train_labels);\n",
    "\n",
    "lr_char3 = LogisticRegression()                     \n",
    "lr_char3.fit(char3_train_features, train_labels);\n",
    "\n",
    "lr_char4 = LogisticRegression()                     \n",
    "lr_char4.fit(char4_train_features, train_labels);\n",
    "\n",
    "lr_char5 = LogisticRegression()                     \n",
    "lr_char5.fit(char5_train_features, train_labels);\n",
    "\n",
    "lr_char6 = LogisticRegression()                     \n",
    "lr_char6.fit(char6_train_features, train_labels);\n",
    "\n",
    "lr_char7 = LogisticRegression()                     \n",
    "lr_char7.fit(char7_train_features, train_labels);\n",
    "\n",
    "lr_char8 = LogisticRegression()                     \n",
    "lr_char8.fit(char8_train_features, train_labels);\n",
    "\n",
    "lr_char9 = LogisticRegression()                     \n",
    "lr_char9.fit(char9_train_features, train_labels);\n",
    "\n",
    "lr_char10 = LogisticRegression()                     \n",
    "lr_char10.fit(char10_train_features, train_labels);"
   ]
  },
  {
   "cell_type": "markdown",
   "metadata": {
    "_uuid": "bd90241ec78889743d37c224d53b7b0771222122",
    "colab_type": "text",
    "id": "_JeIdsEs4KV6"
   },
   "source": [
    "## Testing"
   ]
  },
  {
   "cell_type": "code",
   "execution_count": null,
   "metadata": {
    "_uuid": "38b8e42fbb38348b547469aafc87aab4c5b4c17a",
    "colab": {
     "base_uri": "https://localhost:8080/",
     "height": 233
    },
    "colab_type": "code",
    "id": "oMtzjdQG4KV-",
    "outputId": "b600eeaa-2051-4b45-aafe-4b1b1ba97332"
   },
   "outputs": [],
   "source": [
    "uni_test_features = uni_vector.transform(test_features)\n",
    "uni_test_features=pd.DataFrame(uni_test_features.toarray(), columns=uni_feature_names)\n",
    "#uni_test_features[:5]"
   ]
  },
  {
   "cell_type": "code",
   "execution_count": null,
   "metadata": {
    "_uuid": "96bf9bf93db93c4639fa96757cf7a7522c7e635b",
    "colab": {},
    "colab_type": "code",
    "id": "mrKKT7G24KWH"
   },
   "outputs": [],
   "source": [
    "bi_test_features = bi_vector.transform(test_features)\n",
    "bi_test_features=pd.DataFrame(bi_test_features.toarray(), columns=bi_feature_names)"
   ]
  },
  {
   "cell_type": "code",
   "execution_count": null,
   "metadata": {
    "_uuid": "0c214a2e2547163cdbb23df34b763157df104bdc",
    "colab": {},
    "colab_type": "code",
    "id": "kKndAYDp4KWM"
   },
   "outputs": [],
   "source": [
    "tri_test_features = tri_vector.transform(test_features)\n",
    "tri_test_features=pd.DataFrame(tri_test_features.toarray(), columns=tri_feature_names)"
   ]
  },
  {
   "cell_type": "code",
   "execution_count": null,
   "metadata": {
    "_uuid": "13436287dd2356024b4b19f83c5613ab1ec5596b",
    "colab": {},
    "colab_type": "code",
    "id": "2dfivePH4KWT"
   },
   "outputs": [],
   "source": [
    "char3_test_features = char3_vector.transform(test_features)\n",
    "char3_test_features=pd.DataFrame(char3_test_features.toarray(), columns=char3_feature_names)"
   ]
  },
  {
   "cell_type": "code",
   "execution_count": null,
   "metadata": {
    "_uuid": "54f1ac82e39c7b1d88aa86b25969a6994421f229",
    "colab": {},
    "colab_type": "code",
    "id": "iiZSLhuK4KWY"
   },
   "outputs": [],
   "source": [
    "char4_test_features = char4_vector.transform(test_features)\n",
    "char4_test_features=pd.DataFrame(char4_test_features.toarray(), columns=char4_feature_names)"
   ]
  },
  {
   "cell_type": "code",
   "execution_count": null,
   "metadata": {
    "_uuid": "abeb02593ff6e6ad85ce565e67dd71af9527033b",
    "colab": {},
    "colab_type": "code",
    "id": "qV73Hqb24KWc"
   },
   "outputs": [],
   "source": [
    "char5_test_features = char5_vector.transform(test_features)\n",
    "char5_test_features=pd.DataFrame(char5_test_features.toarray(), columns=char5_feature_names)"
   ]
  },
  {
   "cell_type": "code",
   "execution_count": null,
   "metadata": {
    "_uuid": "fc4328b27a6d559754a09a1c67d105d839bb145d",
    "colab": {},
    "colab_type": "code",
    "id": "A-GZ6n9K4KWf"
   },
   "outputs": [],
   "source": [
    "char6_test_features = char6_vector.transform(test_features)\n",
    "char6_test_features=pd.DataFrame(char6_test_features.toarray(), columns=char6_feature_names)"
   ]
  },
  {
   "cell_type": "code",
   "execution_count": null,
   "metadata": {
    "_uuid": "7cc1e128d8be82fda77d16452ad0378ec6a63393",
    "colab": {},
    "colab_type": "code",
    "id": "-7g50Ips4KWj"
   },
   "outputs": [],
   "source": [
    "char7_test_features = char7_vector.transform(test_features)\n",
    "char7_test_features=pd.DataFrame(char7_test_features.toarray(), columns=char7_feature_names)"
   ]
  },
  {
   "cell_type": "code",
   "execution_count": null,
   "metadata": {
    "_uuid": "742c1a193e9c74d9e450e80c8637f9a08f2e0f64",
    "colab": {},
    "colab_type": "code",
    "id": "T1v7fMCl4KWo"
   },
   "outputs": [],
   "source": [
    "char8_test_features = char8_vector.transform(test_features)\n",
    "char8_test_features=pd.DataFrame(char8_test_features.toarray(), columns=char8_feature_names)"
   ]
  },
  {
   "cell_type": "code",
   "execution_count": null,
   "metadata": {
    "_uuid": "9f9010e787e0e2c499c95a45365e03e9f77f4378",
    "colab": {},
    "colab_type": "code",
    "id": "E-nM-e3C4KWr"
   },
   "outputs": [],
   "source": [
    "char9_test_features = char9_vector.transform(test_features)\n",
    "char9_test_features=pd.DataFrame(char9_test_features.toarray(), columns=char9_feature_names)"
   ]
  },
  {
   "cell_type": "code",
   "execution_count": null,
   "metadata": {
    "_uuid": "0d77d7e0108e3975f940a2f1c0b5b88715ee9da7",
    "colab": {},
    "colab_type": "code",
    "id": "T0e50AVP4KWv"
   },
   "outputs": [],
   "source": [
    "char10_test_features = char10_vector.transform(test_features)\n",
    "char10_test_features=pd.DataFrame(char10_test_features.toarray(), columns=char10_feature_names)"
   ]
  },
  {
   "cell_type": "markdown",
   "metadata": {
    "_uuid": "530c09840f5d9f11aeff443a710e412a97521fe9",
    "colab_type": "text",
    "id": "B4SsWhJe4KWz"
   },
   "source": [
    "#### Random forest Classififier"
   ]
  },
  {
   "cell_type": "code",
   "execution_count": null,
   "metadata": {
    "_uuid": "734b8aa662d058eb4c2f886ead9b73488cbfee88",
    "colab": {},
    "colab_type": "code",
    "id": "dnKyF_rn4KW0",
    "scrolled": true
   },
   "outputs": [],
   "source": [
    "predictions_uni_rfc = rfc_uni.predict(uni_test_features)         #prediction\n",
    "uni_rfc = accuracy_score(test_labels, predictions_uni_rfc)           #accuracy\n",
    "\n",
    "predictions_bi_rfc = rfc_bi.predict(bi_test_features)         #prediction\n",
    "bi_rfc = accuracy_score(test_labels, predictions_bi_rfc)           #accuracy\n",
    "\n",
    "predictions_tri_rfc = rfc_tri.predict(tri_test_features)         #prediction\n",
    "tri_rfc = accuracy_score(test_labels, predictions_tri_rfc)           #accuracy\n",
    "\n",
    "predictions_char3_rfc = rfc_char3.predict(char3_test_features)         #prediction\n",
    "char3_rfc = accuracy_score(test_labels, predictions_char3_rfc)           #accuracy\n",
    "\n",
    "predictions_char4_rfc = rfc_char4.predict(char4_test_features)         #prediction\n",
    "char4_rfc = accuracy_score(test_labels, predictions_char4_rfc)           #accuracy\n",
    "\n",
    "predictions_char5_rfc = rfc_char5.predict(char5_test_features)         #prediction\n",
    "char5_rfc = accuracy_score(test_labels, predictions_char5_rfc)           #accuracy\n",
    "\n",
    "predictions_char6_rfc = rfc_char6.predict(char6_test_features)         #prediction\n",
    "char6_rfc = accuracy_score(test_labels, predictions_char6_rfc)           #accuracy\n",
    "\n",
    "predictions_char7_rfc = rfc_char7.predict(char7_test_features)         #prediction\n",
    "char7_rfc = accuracy_score(test_labels, predictions_char7_rfc)           #accuracy\n",
    "\n",
    "predictions_char8_rfc = rfc_char8.predict(char8_test_features)         #prediction\n",
    "char8_rfc = accuracy_score(test_labels, predictions_char8_rfc)           #accuracy\n",
    "\n",
    "predictions_char9_rfc = rfc_char9.predict(char9_test_features)         #prediction\n",
    "char9_rfc = accuracy_score(test_labels, predictions_char9_rfc)           #accuracy\n",
    "\n",
    "predictions_char10_rfc = rfc_char10.predict(char10_test_features)         #prediction\n",
    "char10_rfc = accuracy_score(test_labels, predictions_char10_rfc)           #accuracy"
   ]
  },
  {
   "cell_type": "markdown",
   "metadata": {
    "_uuid": "eb34357180af888f6b9fa2a6e3ba059b57cd3b21",
    "colab_type": "text",
    "id": "T-svKjoE4KW3"
   },
   "source": [
    "#### LinearSVC"
   ]
  },
  {
   "cell_type": "code",
   "execution_count": null,
   "metadata": {
    "_uuid": "7e0870a9732e8bc445b60bcc8d3a540b9d113752",
    "colab": {},
    "colab_type": "code",
    "id": "4Igdk9P94KW5"
   },
   "outputs": [],
   "source": [
    "predictions_uni_lsvc= lsvc_uni.predict(uni_test_features)         #prediction\n",
    "uni_lsvc = accuracy_score(test_labels, predictions_uni_lsvc)           #accuracy\n",
    "\n",
    "predictions_bi_lsvc = lsvc_bi.predict(bi_test_features)         #prediction\n",
    "bi_lsvc = accuracy_score(test_labels, predictions_bi_lsvc)           #accuracy\n",
    "\n",
    "predictions_tri_lsvc = lsvc_tri.predict(tri_test_features)         #prediction\n",
    "tri_lsvc = accuracy_score(test_labels, predictions_tri_lsvc)           #accuracy\n",
    "\n",
    "predictions_char3_lsvc = lsvc_char3.predict(char3_test_features)         #prediction\n",
    "char3_lsvc = accuracy_score(test_labels, predictions_char3_lsvc)           #accuracy\n",
    "\n",
    "predictions_char4_lsvc = lsvc_char4.predict(char4_test_features)         #prediction\n",
    "char4_lsvc = accuracy_score(test_labels, predictions_char4_lsvc)           #accuracy\n",
    "\n",
    "predictions_char5_lsvc = lsvc_char5.predict(char5_test_features)         #prediction\n",
    "char5_lsvc = accuracy_score(test_labels, predictions_char5_lsvc)           #accuracy\n",
    "\n",
    "predictions_char6_lsvc = lsvc_char6.predict(char6_test_features)         #prediction\n",
    "char6_lsvc = accuracy_score(test_labels, predictions_char6_lsvc)           #accuracy\n",
    "\n",
    "predictions_char7_lsvc = lsvc_char7.predict(char7_test_features)         #prediction\n",
    "char7_lsvc = accuracy_score(test_labels, predictions_char7_lsvc)           #accuracy\n",
    "\n",
    "predictions_char8_lsvc = lsvc_char8.predict(char8_test_features)         #prediction\n",
    "char8_lsvc = accuracy_score(test_labels, predictions_char8_lsvc)           #accuracy\n",
    "\n",
    "predictions_char9_lsvc = lsvc_char9.predict(char9_test_features)         #prediction\n",
    "char9_lsvc = accuracy_score(test_labels, predictions_char9_lsvc)           #accuracy\n",
    "\n",
    "predictions_char10_lsvc = lsvc_char10.predict(char10_test_features)         #prediction\n",
    "char10_lsvc = accuracy_score(test_labels, predictions_char10_lsvc)           #accuracy"
   ]
  },
  {
   "cell_type": "markdown",
   "metadata": {
    "_uuid": "f009494a13b7a8789d5d6b09180f28a0cfb6aaf4",
    "colab_type": "text",
    "id": "W59cYgmW5kQi"
   },
   "source": [
    "#### Logistic Regression"
   ]
  },
  {
   "cell_type": "code",
   "execution_count": null,
   "metadata": {
    "_uuid": "af56ecfc738357b1cf2c287c467368393ebb5f85",
    "colab": {},
    "colab_type": "code",
    "id": "YKW_0ay35kQo"
   },
   "outputs": [],
   "source": [
    "predictions_uni_lr = lr_uni.predict(uni_test_features)         #prediction\n",
    "uni_lr = accuracy_score(test_labels, predictions_uni_lr)           #accuracy\n",
    "\n",
    "predictions_bi_lr = lr_bi.predict(bi_test_features)         #prediction\n",
    "bi_lr = accuracy_score(test_labels, predictions_bi_lr)           #accuracy\n",
    "\n",
    "predictions_tri_lr = lr_tri.predict(tri_test_features)         #prediction\n",
    "tri_lr = accuracy_score(test_labels, predictions_tri_lr)           #accuracy\n",
    "\n",
    "predictions_char3_lr = lr_char3.predict(char3_test_features)         #prediction\n",
    "char3_lr = accuracy_score(test_labels, predictions_char3_lr)           #accuracy\n",
    "\n",
    "predictions_char4_lr = lr_char4.predict(char4_test_features)         #prediction\n",
    "char4_lr = accuracy_score(test_labels, predictions_char4_lr)           #accuracy\n",
    "\n",
    "predictions_char5_lr = lr_char5.predict(char5_test_features)         #prediction\n",
    "char5_lr = accuracy_score(test_labels, predictions_char5_lr)           #accuracy\n",
    "\n",
    "predictions_char6_lr = lr_char6.predict(char6_test_features)         #prediction\n",
    "char6_lr = accuracy_score(test_labels, predictions_char6_lr)           #accuracy\n",
    "\n",
    "predictions_char7_lr = lr_char7.predict(char7_test_features)         #prediction\n",
    "char7_lr = accuracy_score(test_labels, predictions_char7_lr)           #accuracy\n",
    "\n",
    "predictions_char8_lr = lr_char8.predict(char8_test_features)         #prediction\n",
    "char8_lr = accuracy_score(test_labels, predictions_char8_lr)           #accuracy\n",
    "\n",
    "predictions_char9_lr = lr_char9.predict(char9_test_features)         #prediction\n",
    "char9_lr = accuracy_score(test_labels, predictions_char9_lr)           #accuracy\n",
    "\n",
    "predictions_char10_lr = lr_char10.predict(char10_test_features)         #prediction\n",
    "char10_lr = accuracy_score(test_labels, predictions_char10_lr)           #accuracy"
   ]
  },
  {
   "cell_type": "code",
   "execution_count": null,
   "metadata": {
    "_uuid": "2f3a0efce6355aa3acf7819f3eaf0794538fb343",
    "colab": {},
    "colab_type": "code",
    "id": "LweGbcFW4KXO"
   },
   "outputs": [],
   "source": [
    "features = uni_vector.transform(dataset.Text)\n",
    "target=language"
   ]
  },
  {
   "cell_type": "code",
   "execution_count": null,
   "metadata": {
    "_uuid": "b49387be9cc4679e486981fa6dced0063d86c97e",
    "colab": {},
    "colab_type": "code",
    "id": "qYgXBlbG4KXS"
   },
   "outputs": [],
   "source": [
    " #apply random forest on train dataset\n",
    "model=lr_uni.fit(features, target);"
   ]
  },
  {
   "cell_type": "code",
   "execution_count": null,
   "metadata": {
    "_uuid": "d159bf24f3ea7d1aeb6c35b3dfa8815b8e59bb9c",
    "colab": {
     "base_uri": "https://localhost:8080/",
     "height": 71
    },
    "colab_type": "code",
    "id": "JADdnA2t4KXf",
    "outputId": "bd325260-3c66-4852-c349-b2951394767d"
   },
   "outputs": [],
   "source": [
    "\n",
    "comment = 'வணக்கம்'\n",
    "\n",
    "user_input= uni_vector.transform([comment])\n",
    "a=user_input.toarray()\n",
    "user_input=pd.DataFrame(a, columns=uni_feature_names)\n"
   ]
  },
  {
   "cell_type": "code",
   "execution_count": null,
   "metadata": {
    "_uuid": "99d098b359920db50d089dadcd1032418a542a85",
    "colab": {},
    "colab_type": "code",
    "id": "VRRpVikz4KXw"
   },
   "outputs": [],
   "source": [
    "# fit the model on input\n",
    "language = model.predict(user_input)  "
   ]
  },
  {
   "cell_type": "code",
   "execution_count": null,
   "metadata": {},
   "outputs": [],
   "source": [
    "language"
   ]
  },
  {
   "cell_type": "code",
   "execution_count": null,
   "metadata": {},
   "outputs": [],
   "source": []
  }
 ],
 "metadata": {
  "colab": {
   "collapsed_sections": [],
   "name": "Language Identification.ipynb",
   "provenance": [],
   "version": "0.3.2"
  },
  "kernelspec": {
   "display_name": "Python 3",
   "language": "python",
   "name": "python3"
  },
  "language_info": {
   "codemirror_mode": {
    "name": "ipython",
    "version": 3
   },
   "file_extension": ".py",
   "mimetype": "text/x-python",
   "name": "python",
   "nbconvert_exporter": "python",
   "pygments_lexer": "ipython3",
   "version": "3.9.5"
  }
 },
 "nbformat": 4,
 "nbformat_minor": 1
}
